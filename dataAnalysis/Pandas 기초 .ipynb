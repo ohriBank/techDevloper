{
 "cells": [
  {
   "cell_type": "code",
   "execution_count": 5,
   "metadata": {},
   "outputs": [
    {
     "name": "stdout",
     "output_type": "stream",
     "text": [
      "a     사과\n",
      "b    바나나\n",
      "c     당근\n",
      "dtype: object\n",
      "  \n",
      "사과\n",
      "바나나\n"
     ]
    }
   ],
   "source": [
    "## Pandas 의 기본 사용법\n",
    "\n",
    "#Series 시리즈 인덱스와 값으로 구성 == 객체와 비슷\n",
    "\n",
    "# name , age 객체\n",
    "\n",
    "\n",
    "import pandas as pd\n",
    "\n",
    "array = pd.Series(['사과', '바나나', '당근'], index =['a', 'b', 'c'])\n",
    "print(array)\n",
    "print(\"  \")\n",
    "print(array['a'])\n",
    "\n",
    "data = {\n",
    "    'a' : '사과',\n",
    "    'b' : '바나나'\n",
    "    \n",
    "}\n",
    "\n",
    "array = pd.Series(data)\n",
    "print(array['b'])\n"
   ]
  },
  {
   "cell_type": "code",
   "execution_count": null,
   "metadata": {},
   "outputs": [],
   "source": [
    "## 데이터 프레임이란 ?\n",
    "## 다수의 Series를 처리 엑셀과 비슷\n",
    "\n",
    "import pandas as pd\n",
    "word_dict ={\n",
    "    'Apple' : '사과'\n",
    "}\n",
    "frequency_dict = {\n",
    "    'Apple' :3\n",
    "    \n",
    "}\n",
    "\n",
    "word = pd.Series(word_dict)\n",
    "freq = pd.Series(frequency_dict)\n",
    "\n",
    "\n"
   ]
  },
  {
   "cell_type": "code",
   "execution_count": 42,
   "metadata": {},
   "outputs": [
    {
     "data": {
      "text/plain": [
       "array([20200201.,       nan])"
      ]
     },
     "execution_count": 42,
     "metadata": {},
     "output_type": "execute_result"
    }
   ],
   "source": [
    "import pandas as pd\n",
    "\n",
    "data = pd.read_csv(\"sample.csv\", engine='python'  ) ## csv 에 한글 있을경구 engine 으로 처리\n",
    "data.shape ## 몇행의 데이터 확인\n",
    "data.columns ## 컬럼 확인\n",
    "df2 = data[[\"구매확정일\", \"반품완료일\"]] ## 컬럼 정제\n",
    "df2\n",
    "df2.head() ## 앞뒤 5개 씩 볼수 있음\n",
    "df2.tail()\n",
    "\n",
    "df2[\"구매확정일\"].unique() ## 데이터가 범주형인지 체크\n",
    "#df2.dropna(how=\"any\") ## NAN 값 제거\n"
   ]
  }
 ],
 "metadata": {
  "kernelspec": {
   "display_name": "Python 3",
   "language": "python",
   "name": "python3"
  },
  "language_info": {
   "codemirror_mode": {
    "name": "ipython",
    "version": 3
   },
   "file_extension": ".py",
   "mimetype": "text/x-python",
   "name": "python",
   "nbconvert_exporter": "python",
   "pygments_lexer": "ipython3",
   "version": "3.7.4"
  }
 },
 "nbformat": 4,
 "nbformat_minor": 2
}
