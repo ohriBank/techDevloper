{
 "cells": [
  {
   "cell_type": "code",
   "execution_count": null,
   "metadata": {},
   "outputs": [],
   "source": [
    "## 파이썬을 활용한 데이터 분석과 이미치 처리\n",
    "## 1차원을 vector 2차원을 matrix 3차원이상 tensor\n",
    "## 1차원 축 axis 0 2차원 축 axis 1 3차원축 axis2"
   ]
  },
  {
   "cell_type": "code",
   "execution_count": 68,
   "metadata": {},
   "outputs": [
    {
     "name": "stdout",
     "output_type": "stream",
     "text": [
      "[0 1 2 3]\n",
      "[[0. 0. 0. 0.]\n",
      " [0. 0. 0. 0.]\n",
      " [0. 0. 0. 0.]\n",
      " [0. 0. 0. 0.]]\n",
      "[[8 9 5]\n",
      " [8 9 9]\n",
      " [6 4 6]]\n",
      "[[-0.58535976 -1.74035965  0.64701258]\n",
      " [ 1.77400832 -0.10024475 -0.65792602]\n",
      " [-1.08286949 -1.7895015   0.64318925]]\n",
      "(6,)\n",
      "[[0 1]\n",
      " [2 3]]\n",
      "[[0 1 2 3]\n",
      " [0 1 2 3]\n",
      " [4 5 6 7]]\n",
      "(2, 2)\n",
      "(2, 2)\n"
     ]
    }
   ],
   "source": [
    "## numpy 실습\n",
    "import numpy as np\n",
    "\n",
    "# 0부터 3까지 배열 만들기 \n",
    "array1 = np.arange(4)\n",
    "print(array1)\n",
    "\n",
    "array2 = np.zeros((4,4), dtype=float)\n",
    "print(array2)\n",
    "\n",
    "# 0부터 9까지 랜덤하기 초기화\n",
    "array4 = np.random.randint(0,10, (3,3))## 0~9 랜덤 -1 해야함\n",
    "print(array4)\n",
    "\n",
    "## 평균 0이고 , 표준편차가 1인 표준 정규를 띄는 배열 \n",
    "array5 = np.random.normal( 0, 1 , (3,3))\n",
    "print(array5)\n",
    "\n",
    "## 배열합치기\n",
    "array6 = np.array([1,2,3])\n",
    "array7 = np.array([4,5,6])\n",
    "array8 = np.concatenate([array6, array7])\n",
    "print(array8.shape)\n",
    "\n",
    "## 1차원 배열을 2차원으로 재구성\n",
    "a9 = np.arange(4)\n",
    "a10 = a9.reshape((2,2))\n",
    "print(a10)\n",
    "\n",
    "## 배열 합치기 \n",
    "a11 = np.arange(4).reshape(1,4) ## 1행 4열\n",
    "a12 = np.arange(8).reshape(2,4) ## 2행 4열\n",
    "a13 = np.concatenate([a11, a12], axis=0)\n",
    "\n",
    "print(a13)\n",
    "\n",
    "## 배열 나누기\n",
    "\n",
    "\n",
    "left, right = np.split(a12, [2], axis=1) ## 2차원\n",
    "print(left.shape)\n",
    "print(right.shape)"
   ]
  }
 ],
 "metadata": {
  "kernelspec": {
   "display_name": "Python 3",
   "language": "python",
   "name": "python3"
  },
  "language_info": {
   "codemirror_mode": {
    "name": "ipython",
    "version": 3
   },
   "file_extension": ".py",
   "mimetype": "text/x-python",
   "name": "python",
   "nbconvert_exporter": "python",
   "pygments_lexer": "ipython3",
   "version": "3.7.4"
  }
 },
 "nbformat": 4,
 "nbformat_minor": 4
}
 
