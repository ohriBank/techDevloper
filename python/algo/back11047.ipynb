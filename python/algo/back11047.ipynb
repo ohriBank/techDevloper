{
 "cells": [
  {
   "cell_type": "code",
   "execution_count": null,
   "metadata": {},
   "outputs": [],
   "source": [
    "## 11047 백준알고리즘\n",
    "## 동전갯수 총액금액\n",
    "## 동전값 오름차순"
   ]
  },
  {
   "cell_type": "code",
   "execution_count": 14,
   "metadata": {},
   "outputs": [
    {
     "name": "stdout",
     "output_type": "stream",
     "text": [
      "10 4200\n",
      "1\n",
      "5\n",
      "10\n",
      "50\n",
      "100\n",
      "500\n",
      "1000\n",
      "5000\n",
      "10000\n",
      "50000\n",
      "0 4200\n",
      "0 4200\n",
      "0 4200\n",
      "0 4200\n",
      "4 200\n",
      "4 200\n",
      "6 0\n",
      "6 0\n",
      "6 0\n",
      "6 0\n",
      "6\n"
     ]
    }
   ],
   "source": [
    "count , cnt= list(map(int, input().split()))\n",
    "\n",
    "arr = []\n",
    "totalSum =0;\n",
    "for i in range(count) :\n",
    "    arr.append( int(input())) \n",
    "\n",
    "arr.reverse() ## 역순정렬 큰거 부터 몫 나머지를 구함\n",
    "    \n",
    "for i in range(count) :\n",
    "\n",
    "    totalSum =  totalSum+ (cnt // arr[i] )## 몫  16 /100   16 /10   1 \n",
    "    cnt = cnt % arr[i] ## 나누기    16 % 100  16 %10    6\n",
    "\n",
    "print(totalSum) "
   ]
  }
 ],
 "metadata": {
  "kernelspec": {
   "display_name": "Python 3",
   "language": "python",
   "name": "python3"
  },
  "language_info": {
   "codemirror_mode": {
    "name": "ipython",
    "version": 3
   },
   "file_extension": ".py",
   "mimetype": "text/x-python",
   "name": "python",
   "nbconvert_exporter": "python",
   "pygments_lexer": "ipython3",
   "version": "3.7.4"
  }
 },
 "nbformat": 4,
 "nbformat_minor": 4
}
