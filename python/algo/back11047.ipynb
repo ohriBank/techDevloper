{
 "cells": [
  {
   "cell_type": "code",
   "execution_count": null,
   "metadata": {},
   "outputs": [],
   "source": [
    "## 11047 백준알고리즘\n",
    "## 동전갯수 총액금액\n",
    "## 동전값 오름차순"
   ]
  },
  {
   "cell_type": "markdown",
   "metadata": {},
   "source": [
    "count, sumCount = list(map(int, input().split()))\n",
    "cnt = []\n",
    "\n",
    "result_count =0;\n",
    "for i in range(count):\n",
    "    cnt.append(int(input()))\n",
    "\n",
    "cnt.reverse();\n",
    "\n",
    "for i in range(count):\n",
    "    result_count = result_count + (sumCount // cnt[i])\n",
    "    sumCount= (sumCount% cnt[i])\n",
    "\n",
    "print(result_count)\n",
    "    "
   ]
  },
  {
   "cell_type": "code",
   "execution_count": 13,
   "metadata": {},
   "outputs": [
    {
     "name": "stdout",
     "output_type": "stream",
     "text": [
      "1\n"
     ]
    }
   ],
   "source": [
    "count = 3\n",
    "sumCount = 16\n",
    "\n",
    "cnt = {10, 5, 1}\n",
    "\n",
    "result =0\n",
    "\n",
    "result = result + (16 // 10)\n",
    "print(result)\n",
    "\n",
    "\n",
    "10 4200\n",
    "1\n",
    "5\n",
    "10\n",
    "50\n",
    "100\n",
    "500\n",
    "1000\n",
    "5000\n",
    "10000\n",
    "50000\n"
   ]
  }
 ],
 "metadata": {
  "kernelspec": {
   "display_name": "Python 3",
   "language": "python",
   "name": "python3"
  },
  "language_info": {
   "codemirror_mode": {
    "name": "ipython",
    "version": 3
   },
   "file_extension": ".py",
   "mimetype": "text/x-python",
   "name": "python",
   "nbconvert_exporter": "python",
   "pygments_lexer": "ipython3",
   "version": "3.7.4"
  }
 },
 "nbformat": 4,
 "nbformat_minor": 4
}
