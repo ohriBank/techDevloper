{
 "cells": [
  {
   "cell_type": "code",
   "execution_count": 4,
   "metadata": {},
   "outputs": [],
   "source": [
    "##1000지폐 냈을때 잔돈 갯수를 구하라 잔돈 종류 500, 100, 50, 10, 5, 1\n",
    "## 그리드 알고리즘 활용 ## 백준알고리즘 5585번 \n",
    "## 그리드 알고리즘 = 탐욕 알고리즘 눈앞의 상황의 최단 경로를 찾는건 ( 최대 금액 혹은 최소 금액 을 사용하여 빠르게 결과를 보는 방법)\n",
    "## 성능이슈가 있을수 있음"
   ]
  },
  {
   "cell_type": "code",
   "execution_count": 3,
   "metadata": {},
   "outputs": [
    {
     "name": "stdin",
     "output_type": "stream",
     "text": [
      " 380\n"
     ]
    },
    {
     "name": "stdout",
     "output_type": "stream",
     "text": [
      "4\n"
     ]
    }
   ],
   "source": [
    "retMoney = 1000 - int(input())\n",
    "count = 0 \n",
    "while retMoney != 0 :\n",
    "    for num in [500,100, 50, 10, 5, 1] :\n",
    "        while retMoney >= num :\n",
    "            retMoney -=num\n",
    "            count +=1\n",
    "            \n",
    "\n",
    "print(count)"
   ]
  }
 ],
 "metadata": {
  "kernelspec": {
   "display_name": "Python 3",
   "language": "python",
   "name": "python3"
  },
  "language_info": {
   "codemirror_mode": {
    "name": "ipython",
    "version": 3
   },
   "file_extension": ".py",
   "mimetype": "text/x-python",
   "name": "python",
   "nbconvert_exporter": "python",
   "pygments_lexer": "ipython3",
   "version": "3.7.4"
  }
 },
 "nbformat": 4,
 "nbformat_minor": 4
}
